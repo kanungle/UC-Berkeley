{
 "cells": [
  {
   "cell_type": "markdown",
   "metadata": {},
   "source": [
    "# Building a decision tree for regression\n",
    "\n",
    "\n",
    "In this notebook, we will consider an example to find the best feature to build a decision tree for a regression problem. We again will consider the golf palyer dataset, the target feature is the number of players that played.\n",
    "\n",
    "\n",
    "To build a decision tree regression, the feature that gives has the highest standard deviation reduction will be considerd.\n",
    "\n",
    "We will start our analysis by considering the Outlook feature. "
   ]
  },
  {
   "cell_type": "code",
   "execution_count": 1,
   "metadata": {},
   "outputs": [],
   "source": [
    "import pandas as pd\n",
    "import numpy as np"
   ]
  },
  {
   "cell_type": "code",
   "execution_count": 3,
   "metadata": {},
   "outputs": [],
   "source": [
    "df = pd.read_excel(\"golf_players.xlsx\")"
   ]
  },
  {
   "cell_type": "code",
   "execution_count": 4,
   "metadata": {},
   "outputs": [
    {
     "name": "stdout",
     "output_type": "stream",
     "text": [
      "    Day   Outlook  Temp Humidity    Wind  Golf Players\n",
      "0     1     Sunny   Hot     High    Weak            25\n",
      "1     2     Sunny   Hot     High  Strong            30\n",
      "2     3  Overcast   Hot     High    Weak            46\n",
      "3     4      Rain  Mild     High    Weak            45\n",
      "4     5      Rain  Cool   Normal    Weak            52\n",
      "5     6      Rain  Cool   Normal  Strong            23\n",
      "6     7  Overcast  Cool   Normal  Strong            43\n",
      "7     8     Sunny  Mild     High    Weak            35\n",
      "8     9     Sunny  Cool   Normal    Weak            38\n",
      "9    10      Rain  Mild   Normal    Weak            46\n",
      "10   11     Sunny  Mild   Normal  Strong            48\n",
      "11   12  Overcast  Mild     High  Strong            52\n",
      "12   13  Overcast   Hot   Normal    Weak            44\n",
      "13   14      Rain  Mild     High  Strong            30\n"
     ]
    }
   ],
   "source": [
    "print(df)"
   ]
  },
  {
   "cell_type": "code",
   "execution_count": 7,
   "metadata": {},
   "outputs": [
    {
     "name": "stdout",
     "output_type": "stream",
     "text": [
      "39.785714285714285\n",
      "9.672948571450904\n"
     ]
    }
   ],
   "source": [
    "mean_players = df[\"Golf Players\"].mean()\n",
    "std_players = df[\"Golf Players\"].std()\n",
    "\n",
    "print(mean_players)\n",
    "print(std_players)"
   ]
  },
  {
   "cell_type": "markdown",
   "metadata": {},
   "source": [
    "### The global standard deviation for players \n",
    "\n",
    "The global standard deviation for players is 9.67."
   ]
  },
  {
   "cell_type": "markdown",
   "metadata": {},
   "source": [
    "### Outlook \n",
    "\n",
    "We will find the mean and standard deviations for outlook Sunny, outlook Overcast and outlook Rain."
   ]
  },
  {
   "cell_type": "markdown",
   "metadata": {},
   "source": [
    "#### Sunny Outlook"
   ]
  },
  {
   "cell_type": "code",
   "execution_count": 8,
   "metadata": {},
   "outputs": [
    {
     "name": "stdout",
     "output_type": "stream",
     "text": [
      "    Day Outlook  Temp Humidity    Wind  Golf Players\n",
      "0     1   Sunny   Hot     High    Weak            25\n",
      "1     2   Sunny   Hot     High  Strong            30\n",
      "7     8   Sunny  Mild     High    Weak            35\n",
      "8     9   Sunny  Cool   Normal    Weak            38\n",
      "10   11   Sunny  Mild   Normal  Strong            48\n"
     ]
    }
   ],
   "source": [
    "df_sunny = df[df[\"Outlook\"]==\"Sunny\"]\n",
    "print(df_sunny)"
   ]
  },
  {
   "cell_type": "code",
   "execution_count": 14,
   "metadata": {},
   "outputs": [
    {
     "name": "stdout",
     "output_type": "stream",
     "text": [
      "Number of Overcast observations:  5\n",
      "35.2\n",
      "8.700574693662482\n"
     ]
    }
   ],
   "source": [
    "mean_df_sunny = df_sunny[\"Golf Players\"].mean()\n",
    "std_df_sunny = df_sunny[\"Golf Players\"].std()\n",
    "\n",
    "\n",
    "print(\"Number of Overcast observations: \", df_sunny.shape[0])\n",
    "\n",
    "print(mean_df_sunny)\n",
    "print(std_df_sunny)"
   ]
  },
  {
   "cell_type": "markdown",
   "metadata": {},
   "source": [
    "#### Overcast Outlook"
   ]
  },
  {
   "cell_type": "code",
   "execution_count": 15,
   "metadata": {},
   "outputs": [
    {
     "name": "stdout",
     "output_type": "stream",
     "text": [
      "    Day   Outlook  Temp Humidity    Wind  Golf Players\n",
      "2     3  Overcast   Hot     High    Weak            46\n",
      "6     7  Overcast  Cool   Normal  Strong            43\n",
      "11   12  Overcast  Mild     High  Strong            52\n",
      "12   13  Overcast   Hot   Normal    Weak            44\n"
     ]
    }
   ],
   "source": [
    "df_overcast = df[df[\"Outlook\"]==\"Overcast\"]\n",
    "print(df_overcast)"
   ]
  },
  {
   "cell_type": "code",
   "execution_count": 16,
   "metadata": {},
   "outputs": [
    {
     "name": "stdout",
     "output_type": "stream",
     "text": [
      "Number of Overcast observations:  4\n",
      "46.25\n",
      "4.031128874149275\n"
     ]
    }
   ],
   "source": [
    "mean_df_overcast = df_overcast[\"Golf Players\"].mean()\n",
    "std_df_overcast = df_overcast[\"Golf Players\"].std()\n",
    "\n",
    "print(\"Number of Overcast observations: \", df_overcast.shape[0])\n",
    "\n",
    "print(mean_df_overcast)\n",
    "print(std_df_overcast)"
   ]
  },
  {
   "cell_type": "markdown",
   "metadata": {},
   "source": [
    "#### Rain Outlook"
   ]
  },
  {
   "cell_type": "code",
   "execution_count": 17,
   "metadata": {},
   "outputs": [
    {
     "name": "stdout",
     "output_type": "stream",
     "text": [
      "    Day Outlook  Temp Humidity    Wind  Golf Players\n",
      "3     4    Rain  Mild     High    Weak            45\n",
      "4     5    Rain  Cool   Normal    Weak            52\n",
      "5     6    Rain  Cool   Normal  Strong            23\n",
      "9    10    Rain  Mild   Normal    Weak            46\n",
      "13   14    Rain  Mild     High  Strong            30\n"
     ]
    }
   ],
   "source": [
    "df_rain = df[df[\"Outlook\"]==\"Rain\"]\n",
    "print(df_rain)"
   ]
  },
  {
   "cell_type": "code",
   "execution_count": 18,
   "metadata": {},
   "outputs": [
    {
     "name": "stdout",
     "output_type": "stream",
     "text": [
      "Number of Rain observations:  5\n",
      "39.2\n",
      "12.153188881935472\n"
     ]
    }
   ],
   "source": [
    "mean_df_rain = df_rain[\"Golf Players\"].mean()\n",
    "std_df_rain = df_rain[\"Golf Players\"].std()\n",
    "\n",
    "print(\"Number of Rain observations: \", df_rain.shape[0])\n",
    "\n",
    "print(mean_df_rain)\n",
    "print(std_df_rain)"
   ]
  },
  {
   "cell_type": "markdown",
   "metadata": {},
   "source": [
    "#### Summary of standard deviation for the outlook feature\n",
    "\n",
    "Total observations = 14\n",
    "\n",
    "Sunny \n",
    "\n",
    "number of observations=5, std = 8.7\n",
    "\n",
    "Overcast \n",
    "\n",
    "number of observations=4, std = 4.03\n",
    "\n",
    "Rain \n",
    "number of observations=5, std = 12.15\n",
    "\n",
    "\n",
    "Weighted std for outlook = (5/14)* 8.7 + (4/14)* 4.03 + (5/14)* 12.15 "
   ]
  },
  {
   "cell_type": "code",
   "execution_count": 20,
   "metadata": {},
   "outputs": [
    {
     "name": "stdout",
     "output_type": "stream",
     "text": [
      "Weighted std for Outlook is:  8.597857142857142\n"
     ]
    }
   ],
   "source": [
    "print(\"Weighted std for Outlook is: \", (5/14)* 8.7 + (4/14)* 4.03 + (5/14)* 12.15 )"
   ]
  },
  {
   "cell_type": "markdown",
   "metadata": {},
   "source": [
    "Std reduction for outlook is = Global std of players - weighted std of Outlook = 9.67 - 8.6 = 1.07"
   ]
  },
  {
   "cell_type": "markdown",
   "metadata": {},
   "source": [
    "This process has to be repeated for other features. The feature with the highest Std reduction should be considered as the starting node to build the decision tree regressor. "
   ]
  },
  {
   "cell_type": "code",
   "execution_count": null,
   "metadata": {},
   "outputs": [],
   "source": []
  }
 ],
 "metadata": {
  "kernelspec": {
   "display_name": "Python 3 (ipykernel)",
   "language": "python",
   "name": "python3"
  },
  "language_info": {
   "codemirror_mode": {
    "name": "ipython",
    "version": 3
   },
   "file_extension": ".py",
   "mimetype": "text/x-python",
   "name": "python",
   "nbconvert_exporter": "python",
   "pygments_lexer": "ipython3",
   "version": "3.9.12"
  }
 },
 "nbformat": 4,
 "nbformat_minor": 2
}
