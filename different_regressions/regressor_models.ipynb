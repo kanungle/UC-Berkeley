{
 "cells": [
  {
   "cell_type": "markdown",
   "metadata": {},
   "source": [
    "In this notebook, we will look at building regression models for decision tree, random forest and SVM.\n",
    "\n",
    "We are going to start with Linear Regression on teh Car purchase dataset. Previously, we considered this dataset for linear regression. "
   ]
  },
  {
   "cell_type": "code",
   "execution_count": 1,
   "metadata": {},
   "outputs": [],
   "source": [
    "import pandas as pd\n",
    "import numpy as np\n",
    "from sklearn import linear_model\n",
    "from sklearn.model_selection import train_test_split"
   ]
  },
  {
   "cell_type": "code",
   "execution_count": 2,
   "metadata": {},
   "outputs": [
    {
     "name": "stdout",
     "output_type": "stream",
     "text": [
      "     Customer Name                                    Customer e-mail Country  \\\n",
      "0    Martina Avila  cubilia.Curae.Phasellus@quisaccumsanconvallis.edu     USA   \n",
      "1    Harlan Barnes                                eu.dolor@diam.co.uk     USA   \n",
      "2  Naomi Rodriquez  vulputate.mauris.sagittis@ametconsectetueradip...     USA   \n",
      "3  Jade Cunningham                            malesuada@dignissim.com     USA   \n",
      "4     Cedric Leach     felis.ullamcorper.viverra@egetmollislectus.net     USA   \n",
      "\n",
      "   Gender  Age  Annual Salary  Credit Card Debt    Net Worth  \\\n",
      "0       0   42    62812.09301      11609.380910  238961.2505   \n",
      "1       0   41    66646.89292       9572.957136  530973.9078   \n",
      "2       1   43    53798.55112      11160.355060  638467.1773   \n",
      "3       1   58    79370.03798      14426.164850  548599.0524   \n",
      "4       1   57    59729.15130       5358.712177  560304.0671   \n",
      "\n",
      "   Car Purchase Amount  \n",
      "0          35321.45877  \n",
      "1          45115.52566  \n",
      "2          42925.70921  \n",
      "3          67422.36313  \n",
      "4          55915.46248  \n",
      "(500, 9)\n",
      "Index(['Customer Name', 'Customer e-mail', 'Country', 'Gender', 'Age',\n",
      "       'Annual Salary', 'Credit Card Debt', 'Net Worth',\n",
      "       'Car Purchase Amount'],\n",
      "      dtype='object')\n",
      "Customer Name           object\n",
      "Customer e-mail         object\n",
      "Country                 object\n",
      "Gender                   int64\n",
      "Age                      int64\n",
      "Annual Salary          float64\n",
      "Credit Card Debt       float64\n",
      "Net Worth              float64\n",
      "Car Purchase Amount    float64\n",
      "dtype: object\n",
      "['USA']\n"
     ]
    }
   ],
   "source": [
    "auto = pd.read_csv('Car_Purchasing_Data.csv')\n",
    "print(auto.head())\n",
    "\n",
    "print(auto.shape)\n",
    "\n",
    "\n",
    "auto.head()\n",
    "\n",
    "print(auto.columns)\n",
    "print(auto.dtypes)\n",
    "\n",
    "print(auto.Country.unique())"
   ]
  },
  {
   "cell_type": "code",
   "execution_count": 3,
   "metadata": {},
   "outputs": [
    {
     "name": "stdout",
     "output_type": "stream",
     "text": [
      "(500, 6)\n",
      "Index(['Gender', 'Age', 'Annual Salary', 'Credit Card Debt', 'Net Worth',\n",
      "       'Car Purchase Amount'],\n",
      "      dtype='object')\n",
      "<class 'pandas.core.frame.DataFrame'>\n",
      "RangeIndex: 500 entries, 0 to 499\n",
      "Data columns (total 6 columns):\n",
      " #   Column               Non-Null Count  Dtype  \n",
      "---  ------               --------------  -----  \n",
      " 0   Gender               500 non-null    int64  \n",
      " 1   Age                  500 non-null    int64  \n",
      " 2   Annual Salary        500 non-null    float64\n",
      " 3   Credit Card Debt     500 non-null    float64\n",
      " 4   Net Worth            500 non-null    float64\n",
      " 5   Car Purchase Amount  500 non-null    float64\n",
      "dtypes: float64(4), int64(2)\n",
      "memory usage: 23.6 KB\n",
      "None\n"
     ]
    }
   ],
   "source": [
    "# dropping \n",
    "\n",
    "auto.drop([\"Customer Name\", \"Customer e-mail\", \"Country\"], axis=1, inplace=True)\n",
    "\n",
    "#df.drop(['column_name1', 'column_name2'], axis=1, inplace=True)\n",
    "\n",
    "print(auto.shape)\n",
    "\n",
    "print(auto.columns)\n",
    "print(auto.info())"
   ]
  },
  {
   "cell_type": "code",
   "execution_count": 4,
   "metadata": {},
   "outputs": [
    {
     "name": "stdout",
     "output_type": "stream",
     "text": [
      "LinearRegression()\n"
     ]
    }
   ],
   "source": [
    "# creating an instance of LinearRegression class\n",
    "reg = linear_model.LinearRegression()\n",
    "print(reg)"
   ]
  },
  {
   "cell_type": "code",
   "execution_count": 5,
   "metadata": {},
   "outputs": [],
   "source": [
    "from sklearn.preprocessing import StandardScaler"
   ]
  },
  {
   "cell_type": "code",
   "execution_count": 6,
   "metadata": {},
   "outputs": [],
   "source": [
    "a_scaler = StandardScaler() # creating an instance of Standard Scaler\n",
    "\n",
    "auto_independent = a_scaler.fit_transform(auto[['Age','Annual Salary', 'Credit Card Debt', 'Net Worth']])\n",
    "\n",
    "auto_target = auto[\"Car Purchase Amount\"]\n",
    "\n",
    "# using train_test_split(), we are splitting the data into training and test \n",
    "# x_train, x_test, y_train, y_test\n",
    "\n",
    "x_train, x_test, y_train, y_test = train_test_split(auto_independent, auto_target, test_size=0.2, random_state=4)"
   ]
  },
  {
   "cell_type": "markdown",
   "metadata": {},
   "source": [
    "### Linear Regression"
   ]
  },
  {
   "cell_type": "code",
   "execution_count": 7,
   "metadata": {},
   "outputs": [
    {
     "name": "stdout",
     "output_type": "stream",
     "text": [
      "[6698.49987763 6568.62278558   20.6676723  5020.44202563]\n",
      "44203.966801967785\n"
     ]
    }
   ],
   "source": [
    "# we have to do the fit on the training data\n",
    "reg.fit(x_train, y_train)\n",
    "\n",
    "# y = mx + b here m is the coefficient (or slope) of x \n",
    "# and b is the intercept\n",
    "\n",
    "print(reg.coef_) # \n",
    "print(reg.intercept_)\n",
    "\n"
   ]
  },
  {
   "cell_type": "markdown",
   "metadata": {},
   "source": [
    "#### Linear Regression Equation\n",
    "\n",
    "The relationship between the independent and dependent variables is \n",
    "'Age','Annual Salary', 'Credit Card Debt', 'Net Worth' independent variables\n",
    "\n",
    "car purchase amount is the dependent variable\n",
    "\n",
    "car_purchase = 6698.49* age + 6568.62 * annual_salary + 20.66 * credit_debt + 5050.44 * net_worth + 44203.96"
   ]
  },
  {
   "cell_type": "markdown",
   "metadata": {},
   "source": [
    "### Decision Tree Regressor"
   ]
  },
  {
   "cell_type": "code",
   "execution_count": 8,
   "metadata": {},
   "outputs": [
    {
     "name": "stdout",
     "output_type": "stream",
     "text": [
      "mean cross validation score: 0.8396011747138079\n",
      "score without cv: 1.0\n",
      "0.8638359844306374\n",
      "0.8638359844306374\n"
     ]
    }
   ],
   "source": [
    "from sklearn.model_selection import cross_val_score\n",
    "from sklearn.tree import DecisionTreeRegressor\n",
    "\n",
    "dt = DecisionTreeRegressor(random_state=0, criterion=\"absolute_error\")\n",
    "dt_fit = dt.fit(x_train, y_train)\n",
    "\n",
    "dt_scores = cross_val_score(dt_fit, x_train, y_train, cv = 5)\n",
    "print(\"mean cross validation score: {}\".format(np.mean(dt_scores)))\n",
    "print(\"score without cv: {}\".format(dt_fit.score(x_train, y_train)))\n",
    "\n",
    "# on the test \n",
    "from sklearn.metrics import r2_score\n",
    "print(r2_score(y_test, dt_fit.predict(x_test)))\n",
    "print(dt_fit.score(x_test, y_test))"
   ]
  },
  {
   "cell_type": "markdown",
   "metadata": {},
   "source": [
    "#### Random Forest Regressor"
   ]
  },
  {
   "cell_type": "code",
   "execution_count": null,
   "metadata": {},
   "outputs": [],
   "source": [
    "from sklearn.ensemble import RandomForestRegressor\n",
    "\n",
    "\n",
    "regr_obj = RandomForestRegressor(max_depth=3, random_state=0)\n",
    "regr_obj.fit(x_train, y_train)\n",
    "\n",
    "rtree_score = regr_obj.score(x_train, y_train, sample_weight=None)\n",
    "print(rtree_score)"
   ]
  },
  {
   "cell_type": "markdown",
   "metadata": {},
   "source": [
    "### SVM Regressor"
   ]
  },
  {
   "cell_type": "code",
   "execution_count": null,
   "metadata": {},
   "outputs": [],
   "source": [
    "from sklearn.svm import SVR\n",
    "\n",
    "svm_reg = SVR(kernel=\"linear\", C=1.0, epsilon=0.2)\n",
    "svm_reg.fit(x_train, y_train)\n",
    "\n",
    "svm_score = svm_reg.score(x_train, y_train, sample_weight=None)\n",
    "print(svm_score)"
   ]
  },
  {
   "cell_type": "code",
   "execution_count": null,
   "metadata": {},
   "outputs": [],
   "source": []
  }
 ],
 "metadata": {
  "kernelspec": {
   "display_name": "Python 3 (ipykernel)",
   "language": "python",
   "name": "python3"
  },
  "language_info": {
   "codemirror_mode": {
    "name": "ipython",
    "version": 3
   },
   "file_extension": ".py",
   "mimetype": "text/x-python",
   "name": "python",
   "nbconvert_exporter": "python",
   "pygments_lexer": "ipython3",
   "version": "3.9.12"
  }
 },
 "nbformat": 4,
 "nbformat_minor": 2
}
