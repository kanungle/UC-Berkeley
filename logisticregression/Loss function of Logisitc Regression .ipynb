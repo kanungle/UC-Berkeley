{
 "cells": [
  {
   "cell_type": "markdown",
   "metadata": {},
   "source": [
    "From the power point we have seen that the logistic equation is, \n",
    "\n",
    "$$ \\hat{y} = \\frac{1}{1 + e^{-(mx+b)}} $$\n",
    "\n",
    "let $z = mx+b $ \n",
    "\n",
    "The loss function for logistic regression is\n",
    "\n",
    "$ L = \\sum( -y_i log(\\hat{y_i}) - (1 - y_i) log(1 - \\hat{y_i}) )$\n",
    "\n",
    "We are looking at binary classification. True y is either 0 or 1. \n",
    "\n",
    "If y = 0 and $\\hat{y}=0$ then\n",
    "\n",
    "$L = \\sum(-0 log(0) - (1-0) log(1-0)) = 0$\n",
    "\n",
    "\n",
    "If y = 1 and $\\hat{y}=1$ then\n",
    "\n",
    "$L = \\sum(-1 log(1) - (1-1) log(1-1)) = 0 $\n",
    "\n",
    "\n",
    "If y = 0 and $\\hat{y}=1$ then\n",
    "\n",
    "$L = \\sum(-0 log(1) - (1-0) log(1-1)) = \\sum( -1 log(0)) =$  large number.\n",
    "\n",
    "If y = 1 and $\\hat{y}=0$ then\n",
    "\n",
    "$L = \\sum(-1 log(0) - (1-1) log(1-0)) = \\sum( -1 log(0)) =$  large number.\n",
    "\n",
    "When the true y and predicted y don't match, then the error is large. \n",
    "\n",
    "\n",
    "The update equation for $m$ and $b$ with $\\epsilon$ as a learning rate are:\n",
    "\n",
    "$m_{new} = m_{old} - \\epsilon \\frac{\\partial L}{\\partial m_{old}} $ \n",
    "\n",
    "$b_{new} = b_{old} - \\epsilon \\frac{\\partial L}{\\partial b_{old}} $"
   ]
  },
  {
   "cell_type": "code",
   "execution_count": null,
   "metadata": {},
   "outputs": [],
   "source": []
  }
 ],
 "metadata": {
  "kernelspec": {
   "display_name": "Python 3",
   "language": "python",
   "name": "python3"
  },
  "language_info": {
   "codemirror_mode": {
    "name": "ipython",
    "version": 3
   },
   "file_extension": ".py",
   "mimetype": "text/x-python",
   "name": "python",
   "nbconvert_exporter": "python",
   "pygments_lexer": "ipython3",
   "version": "3.7.4"
  }
 },
 "nbformat": 4,
 "nbformat_minor": 2
}
