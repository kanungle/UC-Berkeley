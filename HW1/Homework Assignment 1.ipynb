{
 "cells": [
  {
   "cell_type": "markdown",
   "id": "1277740e",
   "metadata": {},
   "source": [
    "# Homework Assignment 1\n",
    "#### Neil Kanungo / November 2022"
   ]
  },
  {
   "cell_type": "markdown",
   "id": "320d9ff0",
   "metadata": {},
   "source": [
    "### Question 1:\n",
    "Read dictionary.csv file (this file is in the Files section of your class portal) as a Pandas DataFrame and perform the following:\n",
    "\n",
    "a) Print the column names.\n",
    "\n",
    "b) Print the shape.\n",
    "\n",
    "c) Check if there any missing values or not a number in the columns. Print the missing or not a number count for each column.\n",
    "\n",
    "d) Find mean of Population and mean of GDP per Capita and print the values.\n",
    "\n",
    "e) Propose a method to fill the missing values or not a number for each. Explain why you choose this method."
   ]
  },
  {
   "cell_type": "code",
   "execution_count": 7,
   "id": "7a5fd7a7",
   "metadata": {},
   "outputs": [],
   "source": [
    "import pandas as pd\n",
    "import numpy as np\n",
    "\n",
    "df = pd.read_csv('dictionary.csv')\n"
   ]
  },
  {
   "cell_type": "code",
   "execution_count": 4,
   "id": "441d93e0",
   "metadata": {},
   "outputs": [
    {
     "name": "stdout",
     "output_type": "stream",
     "text": [
      "Index(['Country', 'Code', 'Population', 'GDP per Capita'], dtype='object')\n"
     ]
    }
   ],
   "source": [
    "# a) Print Column names\n",
    "print(df.columns)"
   ]
  },
  {
   "cell_type": "code",
   "execution_count": 5,
   "id": "554b1c33",
   "metadata": {},
   "outputs": [
    {
     "name": "stdout",
     "output_type": "stream",
     "text": [
      "(201, 4)\n"
     ]
    }
   ],
   "source": [
    "# b) Print the shape\n",
    "print(df.shape)"
   ]
  },
  {
   "cell_type": "code",
   "execution_count": 6,
   "id": "efc4eba1",
   "metadata": {},
   "outputs": [
    {
     "name": "stdout",
     "output_type": "stream",
     "text": [
      "Country            0\n",
      "Code               0\n",
      "Population         5\n",
      "GDP per Capita    25\n",
      "dtype: int64\n"
     ]
    }
   ],
   "source": [
    "# c) check for missing values and NaNs. Print count for each column\n",
    "print(df.isnull().sum())"
   ]
  },
  {
   "cell_type": "code",
   "execution_count": 9,
   "id": "da18f5c7",
   "metadata": {},
   "outputs": [
    {
     "name": "stdout",
     "output_type": "stream",
     "text": [
      "Population Mean:  37228250.14285714\n",
      "GDP Mean:  12882.556130569325\n"
     ]
    }
   ],
   "source": [
    "# d) Find mean of Population and mean of GDP per Capita and print the values.\n",
    "print(\"Population Mean: \", np.mean(df['Population']) )\n",
    "print(\"GDP Mean: \", np.mean(df['GDP per Capita']))"
   ]
  },
  {
   "cell_type": "code",
   "execution_count": 15,
   "id": "944a268f",
   "metadata": {},
   "outputs": [
    {
     "name": "stdout",
     "output_type": "stream",
     "text": [
      "         Population  GDP per Capita\n",
      "count  1.960000e+02      176.000000\n",
      "mean   3.722825e+07    12882.556131\n",
      "std    1.399655e+08    17747.141203\n",
      "min    1.022200e+04      277.068309\n",
      "25%    1.638278e+06     1781.096847\n",
      "50%    7.450124e+06     5233.583395\n",
      "75%    2.557454e+07    15494.683646\n",
      "max    1.371220e+09   101449.968168\n",
      "Methods: From observing the summary statistics, the mean is quite different from the median in both of these columns, indicating a skewed distribution. Additionally, there are less than 200 rows so with 25 missing GDP per Capita values. I would drop the rows with missing Population from the dataset (only 5 rows) and I would fill the GDP Per Capita missing values with the median GDP value.\n"
     ]
    }
   ],
   "source": [
    "# e) Propose a method to fill the missing values or not a number for each. Explain why you choose this method.\n",
    "\n",
    "print(df.describe())\n",
    "\n",
    "print(\"Methods: From observing the summary statistics, the mean is quite different from the median in both of these columns, indicating a skewed distribution. Additionally, there are less than 200 rows so with 25 missing GDP per Capita values. I would drop the rows with missing Population from the dataset (only 5 rows) and I would fill the GDP Per Capita missing values with the median GDP value.\")"
   ]
  },
  {
   "cell_type": "markdown",
   "id": "5389c26f",
   "metadata": {},
   "source": [
    "### Question 2:\n",
    "Use Car_Purchasing_Data.csv file. In the auto example, find the multi-linear relationship \n",
    "between 'Age','Annual Salary', 'Net Worth' with 'Car Purchase Amount'. \n",
    "Find the mean squared error and r-squared for test set \n",
    "and train set and make a conclusion. \n"
   ]
  },
  {
   "cell_type": "code",
   "execution_count": 30,
   "id": "6120f718",
   "metadata": {},
   "outputs": [],
   "source": [
    "from sklearn import linear_model\n",
    "from sklearn.model_selection import train_test_split\n",
    "from sklearn.preprocessing import StandardScaler\n",
    "from sklearn.metrics import mean_squared_error\n",
    "from sklearn.metrics import r2_score"
   ]
  },
  {
   "cell_type": "code",
   "execution_count": 35,
   "id": "f1627fe2",
   "metadata": {},
   "outputs": [
    {
     "name": "stdout",
     "output_type": "stream",
     "text": [
      "MSE Test:  59140.087684340084\n",
      "MSE Train:  58103.55832822711\n",
      "MSE Ratio:  1.0178393438532218\n",
      "r-squared for the test data:  0.9994522704721227\n",
      "r-squared for the train data:  0.9995052722394514\n",
      "Coefficients:  [[6699.87977006 6576.88872641 5014.03020632]]\n",
      "Intercept:  [44205.72062992]\n",
      "Linear Relationship: 6699 * Age + 6577 * Annual Salary + 5014 * Net Worth + 44205\n",
      "Conclusion: There is a strong positive correlation with these predictors and the target variable and the model fits the data well. We know this from a r2 value close to 1 and a less than 2% MSE relative difference. As age, net worth, and annual salary increase, so does the car purchase amount.\n"
     ]
    }
   ],
   "source": [
    "df = pd.read_csv(\"Car_Purchasing_Data.csv\")\n",
    "\n",
    "xvals = df[['Age','Annual Salary','Net Worth']]\n",
    "yvals = df[['Car Purchase Amount']]\n",
    "\n",
    "scaler = StandardScaler()\n",
    "df_x = scaler.fit_transform(xvals)\n",
    "\n",
    "x_train, x_test, y_train, y_test = train_test_split(df_x, yvals, test_size=0.2, random_state=42)\n",
    "\n",
    "lm = linear_model.LinearRegression()\n",
    "lm.fit(x_train, y_train)\n",
    "\n",
    "y_pred = lm.predict(x_test)\n",
    "y_pred_train = lm.predict(x_train)\n",
    "\n",
    "mse_test = mean_squared_error(y_test, y_pred)\n",
    "mse_train = mean_squared_error(y_train, y_pred_train)\n",
    "\n",
    "print(\"MSE Test: \", mse_test)\n",
    "print(\"MSE Train: \", mse_train)\n",
    "\n",
    "print(\"MSE Ratio: \", mse_test/mse_train)\n",
    "\n",
    "print(\"r-squared for the test data: \", r2_score(y_test, y_pred))\n",
    "print(\"r-squared for the train data: \", r2_score(y_train, y_pred_train))\n",
    "\n",
    "print(\"Coefficients: \", lm.coef_)\n",
    "print(\"Intercept: \", lm.intercept_)\n",
    "\n",
    "print(\"Linear Relationship: 6699 * Age + 6577 * Annual Salary + 5014 * Net Worth + 44205\")\n",
    "print(\"Conclusion: There is a strong positive correlation with these predictors and the target variable and the model fits the data well. We know this from a r2 value close to 1 and a less than 2% MSE relative difference. As age, net worth, and annual salary increase, so does the car purchase amount.\")"
   ]
  }
 ],
 "metadata": {
  "kernelspec": {
   "display_name": "Python 3 (ipykernel)",
   "language": "python",
   "name": "python3"
  },
  "language_info": {
   "codemirror_mode": {
    "name": "ipython",
    "version": 3
   },
   "file_extension": ".py",
   "mimetype": "text/x-python",
   "name": "python",
   "nbconvert_exporter": "python",
   "pygments_lexer": "ipython3",
   "version": "3.9.12"
  }
 },
 "nbformat": 4,
 "nbformat_minor": 5
}
