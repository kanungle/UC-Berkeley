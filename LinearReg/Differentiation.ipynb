{
 "cells": [
  {
   "cell_type": "markdown",
   "metadata": {},
   "source": [
    "Differentiation is a process of knowing how one variable changes with respect to another variable.\n",
    "\n",
    "Let's consider an example \n",
    "\n",
    "$ y = x^2 $\n",
    "\n",
    "$ \\frac{dy}{dx}$ represents the change in $y$ with respect to $x.$\n",
    "\n",
    "The graph of $ y = x^2 $ is \n",
    "\n",
    "<img src=\"y_x2.png\" width=200, height=100>\n",
    "\n",
    "The first derivative of $ y = x^2 $ will help us understand the behavior of $y$ with respect to $x.$ "
   ]
  },
  {
   "cell_type": "markdown",
   "metadata": {},
   "source": [
    "#### Power rule:\n",
    "    \n",
    "$ y = x^n $ for any $n$\n",
    "\n",
    "$ \\frac{dy}{dx} = n x^{n-1} $\n",
    "\n",
    "For our function\n",
    "$ y = x^2 $\n",
    "\n",
    "$ \\frac{dy}{dx} = 2 x^{2-1} = 2x $\n",
    "\n",
    "#### Important note:\n",
    "\n",
    "$ y = log(x)$ then $\\frac{dy}{dx} = \\frac{1}{x}$"
   ]
  },
  {
   "cell_type": "markdown",
   "metadata": {},
   "source": [
    "In short hand, $\\frac{dy}{dx}$ is also written as $y'$ and we say it y prime.\n",
    "\n",
    "#### Chain rule\n",
    "\n",
    "if $y = f(u) $ then \n",
    "\n",
    "$\\frac{dy}{du} = f'(u) u' $\n",
    "\n",
    "If $y = log(x^2) $ then\n",
    "\n",
    "$\\frac{dy}{dx} = \\frac{1}{x^2} 2x = \\frac{2x}{x^2} = \\frac{2}{x}.$\n"
   ]
  },
  {
   "cell_type": "markdown",
   "metadata": {},
   "source": [
    "How can $\\frac{dy}{dx}$ help us understand the function better?\n",
    "\n",
    "From the graph we can observe the following:\n",
    "    1) Graph is facing upwards\n",
    "    \n",
    "    2) The function is decreasing when $x < 0$\n",
    "    \n",
    "    3) The function is increasing when $ x > 0$\n",
    "    \n",
    "    4) At $x = 0$, the function is changing from decreasing to increasing\n",
    "    \n",
    "But can we find all this from $\\frac{dy}{dx}$? Yes!\n",
    "\n",
    "Let's set $\\frac{dy}{dx} = 0$ and solve for x\n",
    "\n",
    "$\\frac{dy}{dx} = 2x =  0$ this means $x = 0$. So, $x = 0$ partitions the real line into two parts. Using this value, let's see the sign of $\\frac{dy}{dx}$ when $x < 0$ and $x > 0.$\n",
    "\n",
    "Look how $\\frac{dy}{dx}$ gives so much information about the function!"
   ]
  },
  {
   "cell_type": "code",
   "execution_count": null,
   "metadata": {},
   "outputs": [],
   "source": [
    "Check this link for a derivatives table\n",
    "\n",
    "http://www.sosmath.com/tables/derivative/derivative.html"
   ]
  },
  {
   "cell_type": "markdown",
   "metadata": {},
   "source": [
    "Partial Derivatives\n",
    "\n",
    "$ y = x z$ means, $y$ is a function of both variables $x$ and $z.$\n",
    "\n",
    "So if we want to compute change in $y$ with respect to $x$ then we have to treat $z$ as a constant so the derivate of y with respect to x will be called a partial derivate and looks like\n",
    "\n",
    "$\\frac{\\partial y}{\\partial x} $\n",
    "\n",
    "likewise, for computing $\\frac{\\partial y}{\\partial z} $ we treat $x$ as a constant.\n",
    "\n",
    "So for $y = xz$ \n",
    "\n",
    "then $\\frac{\\partial y}{\\partial x} = z $ as derivative of $x$ is 1\n",
    "\n",
    "likewise, \n",
    "\n",
    "$\\frac{\\partial y}{\\partial z} = x $ as derivative of $z$ is 1"
   ]
  },
  {
   "cell_type": "markdown",
   "metadata": {},
   "source": [
    "Let's look at more examples:\n",
    "\n",
    "If $ y = x z^3 $ then \n",
    "\n",
    "$\\frac{\\partial y}{\\partial x} = z^3 $ as derivative of $x$ is 1\n",
    "\n",
    "$\\frac{\\partial y}{\\partial z} = x 3 z^{3-1} = 3xz^2 $ as derivative of $z^3$ is $3z^2.$"
   ]
  },
  {
   "cell_type": "markdown",
   "metadata": {},
   "source": []
  },
  {
   "cell_type": "markdown",
   "metadata": {},
   "source": [
    "$ y = x z $\n",
    "\n",
    "We want to find $\\frac{\\partial y}{\\partial x},$  we will treat $z $ as a constant\n",
    "\n",
    "$ y = x * constant $ \n",
    "\n",
    "we can use power rule\n",
    "\n",
    "$\\frac{\\partial y}{\\partial x} = constant * 1 * x^{1-1} = constant = z $\n",
    "\n",
    "$\\frac{\\partial y}{\\partial }z = x * 1 * z^{1-1} = x = x $"
   ]
  },
  {
   "cell_type": "code",
   "execution_count": null,
   "metadata": {},
   "outputs": [],
   "source": []
  }
 ],
 "metadata": {
  "kernelspec": {
   "display_name": "Python 3 (ipykernel)",
   "language": "python",
   "name": "python3"
  },
  "language_info": {
   "codemirror_mode": {
    "name": "ipython",
    "version": 3
   },
   "file_extension": ".py",
   "mimetype": "text/x-python",
   "name": "python",
   "nbconvert_exporter": "python",
   "pygments_lexer": "ipython3",
   "version": "3.9.12"
  },
  "widgets": {
   "state": {},
   "version": "1.1.2"
  }
 },
 "nbformat": 4,
 "nbformat_minor": 2
}
