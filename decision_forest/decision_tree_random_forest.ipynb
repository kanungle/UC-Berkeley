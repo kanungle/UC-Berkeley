{
 "cells": [
  {
   "cell_type": "code",
   "execution_count": 1,
   "metadata": {},
   "outputs": [],
   "source": [
    "%matplotlib inline"
   ]
  },
  {
   "cell_type": "code",
   "execution_count": 2,
   "metadata": {},
   "outputs": [],
   "source": [
    "import pandas as pd\n",
    "import numpy as np\n",
    "import matplotlib.pyplot as plt\n",
    "import seaborn as sns\n",
    "from datetime import datetime"
   ]
  },
  {
   "cell_type": "code",
   "execution_count": 3,
   "metadata": {},
   "outputs": [],
   "source": [
    "df=pd.read_csv('heart.csv')"
   ]
  },
  {
   "cell_type": "code",
   "execution_count": 4,
   "metadata": {},
   "outputs": [
    {
     "data": {
      "text/html": [
       "<div>\n",
       "<style scoped>\n",
       "    .dataframe tbody tr th:only-of-type {\n",
       "        vertical-align: middle;\n",
       "    }\n",
       "\n",
       "    .dataframe tbody tr th {\n",
       "        vertical-align: top;\n",
       "    }\n",
       "\n",
       "    .dataframe thead th {\n",
       "        text-align: right;\n",
       "    }\n",
       "</style>\n",
       "<table border=\"1\" class=\"dataframe\">\n",
       "  <thead>\n",
       "    <tr style=\"text-align: right;\">\n",
       "      <th></th>\n",
       "      <th>age</th>\n",
       "      <th>gender</th>\n",
       "      <th>cp</th>\n",
       "      <th>trestbps</th>\n",
       "      <th>chol</th>\n",
       "      <th>fbs</th>\n",
       "      <th>restecg</th>\n",
       "      <th>thalach</th>\n",
       "      <th>exang</th>\n",
       "      <th>oldpeak</th>\n",
       "      <th>slope</th>\n",
       "      <th>ca</th>\n",
       "      <th>thal</th>\n",
       "      <th>target</th>\n",
       "    </tr>\n",
       "  </thead>\n",
       "  <tbody>\n",
       "    <tr>\n",
       "      <th>0</th>\n",
       "      <td>63</td>\n",
       "      <td>1</td>\n",
       "      <td>3</td>\n",
       "      <td>145</td>\n",
       "      <td>233</td>\n",
       "      <td>1</td>\n",
       "      <td>0</td>\n",
       "      <td>150</td>\n",
       "      <td>0</td>\n",
       "      <td>2.3</td>\n",
       "      <td>0</td>\n",
       "      <td>0</td>\n",
       "      <td>1</td>\n",
       "      <td>1</td>\n",
       "    </tr>\n",
       "    <tr>\n",
       "      <th>1</th>\n",
       "      <td>37</td>\n",
       "      <td>1</td>\n",
       "      <td>2</td>\n",
       "      <td>130</td>\n",
       "      <td>250</td>\n",
       "      <td>0</td>\n",
       "      <td>1</td>\n",
       "      <td>187</td>\n",
       "      <td>0</td>\n",
       "      <td>3.5</td>\n",
       "      <td>0</td>\n",
       "      <td>0</td>\n",
       "      <td>2</td>\n",
       "      <td>1</td>\n",
       "    </tr>\n",
       "    <tr>\n",
       "      <th>2</th>\n",
       "      <td>41</td>\n",
       "      <td>0</td>\n",
       "      <td>1</td>\n",
       "      <td>130</td>\n",
       "      <td>204</td>\n",
       "      <td>0</td>\n",
       "      <td>0</td>\n",
       "      <td>172</td>\n",
       "      <td>0</td>\n",
       "      <td>1.4</td>\n",
       "      <td>2</td>\n",
       "      <td>0</td>\n",
       "      <td>2</td>\n",
       "      <td>1</td>\n",
       "    </tr>\n",
       "    <tr>\n",
       "      <th>3</th>\n",
       "      <td>56</td>\n",
       "      <td>1</td>\n",
       "      <td>1</td>\n",
       "      <td>120</td>\n",
       "      <td>236</td>\n",
       "      <td>0</td>\n",
       "      <td>1</td>\n",
       "      <td>178</td>\n",
       "      <td>0</td>\n",
       "      <td>0.8</td>\n",
       "      <td>2</td>\n",
       "      <td>0</td>\n",
       "      <td>2</td>\n",
       "      <td>1</td>\n",
       "    </tr>\n",
       "    <tr>\n",
       "      <th>4</th>\n",
       "      <td>57</td>\n",
       "      <td>0</td>\n",
       "      <td>0</td>\n",
       "      <td>120</td>\n",
       "      <td>354</td>\n",
       "      <td>0</td>\n",
       "      <td>1</td>\n",
       "      <td>163</td>\n",
       "      <td>1</td>\n",
       "      <td>0.6</td>\n",
       "      <td>2</td>\n",
       "      <td>0</td>\n",
       "      <td>2</td>\n",
       "      <td>1</td>\n",
       "    </tr>\n",
       "  </tbody>\n",
       "</table>\n",
       "</div>"
      ],
      "text/plain": [
       "   age  gender  cp  trestbps  chol  fbs  restecg  thalach  exang  oldpeak  \\\n",
       "0   63       1   3       145   233    1        0      150      0      2.3   \n",
       "1   37       1   2       130   250    0        1      187      0      3.5   \n",
       "2   41       0   1       130   204    0        0      172      0      1.4   \n",
       "3   56       1   1       120   236    0        1      178      0      0.8   \n",
       "4   57       0   0       120   354    0        1      163      1      0.6   \n",
       "\n",
       "   slope  ca  thal  target  \n",
       "0      0   0     1       1  \n",
       "1      0   0     2       1  \n",
       "2      2   0     2       1  \n",
       "3      2   0     2       1  \n",
       "4      2   0     2       1  "
      ]
     },
     "execution_count": 4,
     "metadata": {},
     "output_type": "execute_result"
    }
   ],
   "source": [
    "df.head()"
   ]
  },
  {
   "cell_type": "markdown",
   "metadata": {},
   "source": [
    "#### Columns Details\n",
    "\n",
    "age: person's age\n",
    "\n",
    "gender (1 = male, 0 = female) \n",
    "\n",
    "cp: The chest pain experienced (Value 1: typical angina, Value 2: atypical angina, Value 3: non-anginal pain, Value 4: asymptomatic) \n",
    "\n",
    "trestbps: The person's resting blood pressure (mm Hg on admission to the hospital) \n",
    "\n",
    "chol: The person's cholesterol measurement in mg/dl \n",
    "\n",
    "fbs: The person's fasting blood sugar (> 120 mg/dl, 1 = true; 0 = false) \n",
    "\n",
    "restecg: Resting electrocardiographic measurement (0 = normal, 1 = having ST-T wave abnormality, 2 = showing probable or definite left ventricular hypertrophy by Estes' criteria) \n",
    "\n",
    "thalach: The person's maximum heart rate achieved exang: Exercise induced angina (1 = yes; 0 = no) \n",
    "\n",
    "oldpeak: ST depression induced by exercise relative to rest ('ST' relates to positions on the ECG plot. See more here) \n",
    "\n",
    "slope: the slope of the peak exercise ST segment (Value 1: upsloping, Value 2: flat, Value 3: downsloping) \n",
    "\n",
    "ca: The number of major vessels (0-3) \n",
    "\n",
    "thal: A blood disorder called thalassemia (3 = normal; 6 = fixed defect; 7 = reversable defect) \n",
    "\n",
    "target: Heart disease (0 = no, 1 = yes)"
   ]
  },
  {
   "cell_type": "markdown",
   "metadata": {},
   "source": [
    "thal, thalach, restecg ---> trestbps is a value this is an example of regression \n",
    "\n",
    "age, gender, cp        ---> heart disease, yes or no, this means it is a classification "
   ]
  },
  {
   "cell_type": "code",
   "execution_count": 5,
   "metadata": {},
   "outputs": [
    {
     "data": {
      "text/plain": [
       "Index(['age', 'gender', 'cp', 'trestbps', 'chol', 'fbs', 'restecg', 'thalach',\n",
       "       'exang', 'oldpeak', 'slope', 'ca', 'thal', 'target'],\n",
       "      dtype='object')"
      ]
     },
     "execution_count": 5,
     "metadata": {},
     "output_type": "execute_result"
    }
   ],
   "source": [
    "df.columns"
   ]
  },
  {
   "cell_type": "code",
   "execution_count": 6,
   "metadata": {},
   "outputs": [
    {
     "name": "stdout",
     "output_type": "stream",
     "text": [
      "<class 'pandas.core.frame.DataFrame'>\n",
      "RangeIndex: 303 entries, 0 to 302\n",
      "Data columns (total 14 columns):\n",
      " #   Column    Non-Null Count  Dtype  \n",
      "---  ------    --------------  -----  \n",
      " 0   age       303 non-null    int64  \n",
      " 1   gender    303 non-null    int64  \n",
      " 2   cp        303 non-null    int64  \n",
      " 3   trestbps  303 non-null    int64  \n",
      " 4   chol      303 non-null    int64  \n",
      " 5   fbs       303 non-null    int64  \n",
      " 6   restecg   303 non-null    int64  \n",
      " 7   thalach   303 non-null    int64  \n",
      " 8   exang     303 non-null    int64  \n",
      " 9   oldpeak   303 non-null    float64\n",
      " 10  slope     303 non-null    int64  \n",
      " 11  ca        303 non-null    int64  \n",
      " 12  thal      303 non-null    int64  \n",
      " 13  target    303 non-null    int64  \n",
      "dtypes: float64(1), int64(13)\n",
      "memory usage: 33.3 KB\n"
     ]
    }
   ],
   "source": [
    "df.info()"
   ]
  },
  {
   "cell_type": "code",
   "execution_count": 7,
   "metadata": {},
   "outputs": [
    {
     "data": {
      "text/plain": [
       "(303, 14)"
      ]
     },
     "execution_count": 7,
     "metadata": {},
     "output_type": "execute_result"
    }
   ],
   "source": [
    "df.shape"
   ]
  },
  {
   "cell_type": "code",
   "execution_count": 8,
   "metadata": {},
   "outputs": [
    {
     "data": {
      "text/plain": [
       "age         0\n",
       "gender      0\n",
       "cp          0\n",
       "trestbps    0\n",
       "chol        0\n",
       "fbs         0\n",
       "restecg     0\n",
       "thalach     0\n",
       "exang       0\n",
       "oldpeak     0\n",
       "slope       0\n",
       "ca          0\n",
       "thal        0\n",
       "target      0\n",
       "dtype: int64"
      ]
     },
     "execution_count": 8,
     "metadata": {},
     "output_type": "execute_result"
    }
   ],
   "source": [
    "df.isnull().sum()"
   ]
  },
  {
   "cell_type": "code",
   "execution_count": 9,
   "metadata": {},
   "outputs": [
    {
     "data": {
      "text/plain": [
       "1    165\n",
       "0    138\n",
       "Name: target, dtype: int64"
      ]
     },
     "execution_count": 9,
     "metadata": {},
     "output_type": "execute_result"
    }
   ],
   "source": [
    "df.target.value_counts()"
   ]
  },
  {
   "cell_type": "code",
   "execution_count": 10,
   "metadata": {},
   "outputs": [
    {
     "data": {
      "text/plain": [
       "<matplotlib.axes._subplots.AxesSubplot at 0x24eb187b688>"
      ]
     },
     "execution_count": 10,
     "metadata": {},
     "output_type": "execute_result"
    },
    {
     "data": {
      "image/png": "[encoded data removed]",
      "text/plain": [
       "<Figure size 432x288 with 1 Axes>"
      ]
     },
     "metadata": {
      "needs_background": "light"
     },
     "output_type": "display_data"
    }
   ],
   "source": [
    "\"\"\"\n",
    "Plotting the target values. The target value of \"0\" refers \n",
    "to no disease and a value of \"1\" refers to disease.\n",
    "\"\"\"\n",
    "\n",
    "sns.countplot(x=\"target\", data=df)"
   ]
  },
  {
   "cell_type": "code",
   "execution_count": 11,
   "metadata": {
    "scrolled": true
   },
   "outputs": [
    {
     "data": {
      "image/png": "[encoded data removed]",
      "text/plain": [
       "<Figure size 432x288 with 1 Axes>"
      ]
     },
     "metadata": {
      "needs_background": "light"
     },
     "output_type": "display_data"
    }
   ],
   "source": [
    "\"\"\"\n",
    "Plotting number of males vs number of females. Value \"1\"\n",
    "represents a male and \"0\" represents female.\n",
    "\"\"\"\n",
    "\n",
    "sns.countplot(x=\"gender\", data=df)\n",
    "plt.xlabel(\"Gender (0=female, 1=male)\")\n",
    "plt.show()"
   ]
  },
  {
   "cell_type": "markdown",
   "metadata": {},
   "source": [
    "Note: here df is our data frame,\n",
    "\n",
    "df[\"gender\"] or df.gender represent the gender column\n",
    "\n",
    "df[\"gender\"]==1, df.gender==1"
   ]
  },
  {
   "cell_type": "code",
   "execution_count": 12,
   "metadata": {},
   "outputs": [
    {
     "name": "stdout",
     "output_type": "stream",
     "text": [
      "93 male_disease\n",
      "114 male_no_disease\n"
     ]
    }
   ],
   "source": [
    "# Here gender=1(male) and target =1(have disease)\n",
    "\n",
    "male_disease = df[(df.gender==1) & (df.target==1)]   \n",
    "\n",
    "# Here gender=1(male) and target =0(have no disease )\n",
    "\n",
    "male_no_disease = df[(df.gender==1) & (df.target==0)]       \n",
    "\n",
    "print(len(male_disease),\"male_disease\")\n",
    "print(len(male_no_disease),\"male_no_disease\")"
   ]
  },
  {
   "cell_type": "code",
   "execution_count": 13,
   "metadata": {},
   "outputs": [
    {
     "data": {
      "image/png": "[encoded data removed]",
      "text/plain": [
       "<Figure size 432x288 with 1 Axes>"
      ]
     },
     "metadata": {
      "needs_background": "light"
     },
     "output_type": "display_data"
    }
   ],
   "source": [
    "a=len(male_disease)\n",
    "b=len(male_no_disease)\n",
    "sns.barplot(x=['male_disease ','male_no_disease'],y=[a,b])\n",
    "plt.xlabel('Male and Target')\n",
    "plt.ylabel('Count')\n",
    "plt.title('Disease in Males')\n",
    "plt.show()"
   ]
  },
  {
   "cell_type": "code",
   "execution_count": 14,
   "metadata": {},
   "outputs": [
    {
     "name": "stdout",
     "output_type": "stream",
     "text": [
      "72 female_disease\n",
      "24 female_no_disease\n"
     ]
    }
   ],
   "source": [
    "# Here gender=0(female) and target =1(have disease)\n",
    "\n",
    "female_disease = df[(df.gender==0) & (df.target==1)]       \n",
    "\n",
    "# Here gender=0(female) and target =0(have no disease )\n",
    "female_no_disease = df[(df.gender==0) & (df.target==0)]       \n",
    "\n",
    "print(len(female_disease),\"female_disease\")\n",
    "print(len(female_no_disease),\"female_no_disease\")"
   ]
  },
  {
   "cell_type": "code",
   "execution_count": 15,
   "metadata": {},
   "outputs": [
    {
     "data": {
      "image/png": "[encoded data removed]",
      "text/plain": [
       "<Figure size 432x288 with 1 Axes>"
      ]
     },
     "metadata": {
      "needs_background": "light"
     },
     "output_type": "display_data"
    }
   ],
   "source": [
    "c=len(female_disease)\n",
    "d=len(female_no_disease)\n",
    "sns.barplot(x=['female_disease ','female_no_disease'],y=[c,d])\n",
    "plt.xlabel('Female and Target')\n",
    "plt.ylabel('Count')\n",
    "plt.title('Disease in Females')\n",
    "plt.show()"
   ]
  },
  {
   "cell_type": "code",
   "execution_count": 16,
   "metadata": {},
   "outputs": [
    {
     "data": {
      "text/plain": [
       "0    143\n",
       "2     87\n",
       "1     50\n",
       "3     23\n",
       "Name: cp, dtype: int64"
      ]
     },
     "execution_count": 16,
     "metadata": {},
     "output_type": "execute_result"
    }
   ],
   "source": [
    "\"\"\"\n",
    "Let's do chest pain analysis\n",
    "\"\"\"\n",
    "df[\"cp\"].value_counts()"
   ]
  },
  {
   "cell_type": "code",
   "execution_count": 17,
   "metadata": {
    "scrolled": true
   },
   "outputs": [
    {
     "data": {
      "image/png": "[encoded data removed]",
      "text/plain": [
       "<Figure size 432x288 with 1 Axes>"
      ]
     },
     "metadata": {
      "needs_background": "light"
     },
     "output_type": "display_data"
    }
   ],
   "source": [
    "\"\"\"\n",
    "Plotting chest pain according to severity\n",
    "\"\"\"\n",
    "sns.countplot(x='cp', data=df)\n",
    "plt.xlabel(\" Chest pain type\")\n",
    "plt.ylabel(\"Count\")\n",
    "plt.title(\"Chest pain type Vs count plot\")\n",
    "plt.show()"
   ]
  },
  {
   "cell_type": "code",
   "execution_count": 18,
   "metadata": {},
   "outputs": [
    {
     "name": "stdout",
     "output_type": "stream",
     "text": [
      "104 =cp_zero_target_zero\n",
      "39 =cp_zero_target_one\n",
      "9 =cp_one_target_zero\n",
      "41 =cp_one_target_one\n"
     ]
    }
   ],
   "source": [
    "\"\"\"\n",
    "Within each chest pain category, let's see how many had \n",
    "the disease and how many didn't have the disease.\n",
    "\"\"\"\n",
    "print(len(df[(df.cp==0)&(df.target==0)]),\"=cp_zero_target_zero\")\n",
    "print(len(df[(df.cp==0)&(df.target==1)]),\"=cp_zero_target_one\")\n",
    "print(len(df[(df.cp==1)&(df.target==0)]),\"=cp_one_target_zero\")\n",
    "print(len(df[(df.cp==1)&(df.target==1)]),\"=cp_one_target_one\")"
   ]
  },
  {
   "cell_type": "code",
   "execution_count": 19,
   "metadata": {},
   "outputs": [
    {
     "data": {
      "text/plain": [
       "Text(0.5, 1.0, 'Chest_type_1 Vs count plot')"
      ]
     },
     "execution_count": 19,
     "metadata": {},
     "output_type": "execute_result"
    },
    {
     "data": {
      "image/png": "[encoded data removed]",
      "text/plain": [
       "<Figure size 432x288 with 2 Axes>"
      ]
     },
     "metadata": {
      "needs_background": "light"
     },
     "output_type": "display_data"
    }
   ],
   "source": [
    "target_0=len(df[(df.cp==0)&(df.target==0)])\n",
    "target_1=len(df[(df.cp==0)&(df.target==1)])\n",
    "plt.subplot(1,2,1)\n",
    "sns.barplot(x=[\"target_0\",\"target_1\"],y=[target_0,target_1])\n",
    "plt.ylabel(\"Count\")\n",
    "plt.title(\"Chest_type_0 Vs count plot\")\n",
    "\n",
    "\n",
    "target_0=len(df[(df.cp==1)&(df.target==0)])\n",
    "target_1=len(df[(df.cp==1)&(df.target==1)])\n",
    "plt.subplot(1,2, 2)\n",
    "sns.barplot(x=[\"target_0\",\"target_1\"],y=[target_0,target_1])\n",
    "plt.ylabel(\"Count\")\n",
    "plt.title(\"Chest_type_1 Vs count plot\")"
   ]
  },
  {
   "cell_type": "code",
   "execution_count": 20,
   "metadata": {},
   "outputs": [
    {
     "name": "stdout",
     "output_type": "stream",
     "text": [
      "18 =cp_two_target_zero\n",
      "69 =cp_two_target_one\n",
      "7 =cp_three_target_zero\n",
      "16 =cp_three_target_one\n"
     ]
    }
   ],
   "source": [
    "print(len(df[(df.cp==2)&(df.target==0)]),\"=cp_two_target_zero\")\n",
    "print(len(df[(df.cp==2)&(df.target==1)]),\"=cp_two_target_one\")\n",
    "print(len(df[(df.cp==3)&(df.target==0)]),\"=cp_three_target_zero\")\n",
    "print(len(df[(df.cp==3)&(df.target==1)]),\"=cp_three_target_one\")"
   ]
  },
  {
   "cell_type": "code",
   "execution_count": 21,
   "metadata": {},
   "outputs": [
    {
     "data": {
      "text/plain": [
       "Text(0.5, 1.0, 'Chest_type_3 Vs count plot')"
      ]
     },
     "execution_count": 21,
     "metadata": {},
     "output_type": "execute_result"
    },
    {
     "data": {
      "image/png": "[encoded data removed]",
      "text/plain": [
       "<Figure size 432x288 with 2 Axes>"
      ]
     },
     "metadata": {
      "needs_background": "light"
     },
     "output_type": "display_data"
    }
   ],
   "source": [
    "target_0=len(df[(df.cp==2)&(df.target==0)])\n",
    "target_1=len(df[(df.cp==2)&(df.target==1)])\n",
    "plt.subplot(1,2,1)\n",
    "sns.barplot(x=[\"target_0\",\"target_1\"],y=[target_0,target_1])\n",
    "plt.ylabel(\"Count\")\n",
    "plt.title(\"Chest_type_2 Vs count plot\")\n",
    "\n",
    "\n",
    "target_0=len(df[(df.cp==3)&(df.target==0)])\n",
    "target_1=len(df[(df.cp==3)&(df.target==1)])\n",
    "plt.subplot(1,2, 2)\n",
    "sns.barplot(x=[\"target_0\",\"target_1\"],y=[target_0,target_1])\n",
    "plt.ylabel(\"Count\")\n",
    "plt.title(\"Chest_type_3 Vs count plot\")"
   ]
  },
  {
   "cell_type": "code",
   "execution_count": 22,
   "metadata": {},
   "outputs": [
    {
     "name": "stdout",
     "output_type": "stream",
     "text": [
      "[29, 34, 35, 37, 38, 39, 40, 41, 42, 43, 44, 45, 46, 47, 48, 49, 50, 51, 52, 53, 54, 55, 56, 57, 58, 59, 60, 61, 62, 63, 64, 65, 66, 67, 68, 69, 70, 71, 74, 76, 77]\n",
      "[ 1  2  4  2  3  4  3 10  8  8 11  8  7  5  7  5  7 12 13  8 16  8 11 17\n",
      " 19 14 11  8 11  9 10  8  7  9  4  3  4  3  1  1  1]\n"
     ]
    }
   ],
   "source": [
    "print(sorted(df.age.unique()))\n",
    "\n",
    "age_chol_values=df.groupby('age')['chol'].count().values\n",
    "print(age_chol_values)"
   ]
  },
  {
   "cell_type": "code",
   "execution_count": 23,
   "metadata": {},
   "outputs": [
    {
     "name": "stdout",
     "output_type": "stream",
     "text": [
      "[204.0, 196.0, 213.75, 232.5, 193.66666666666666, 239.75, 196.33333333333334, 220.7, 246.75, 256.75, 221.36363636363637, 247.375, 230.28571428571428, 246.4, 250.85714285714286, 228.6, 227.0, 258.6666666666667, 228.23076923076923, 233.5, 253.3125, 280.625, 259.3636363636364, 238.52941176470588, 254.52631578947367, 239.85714285714286, 245.54545454545453, 243.75, 256.6363636363636, 258.22222222222223, 274.4, 279.0, 245.71428571428572, 286.77777777777777, 238.75, 242.33333333333334, 252.5, 238.66666666666666, 269.0, 197.0, 304.0]\n"
     ]
    }
   ],
   "source": [
    "\"\"\"\n",
    "Exploring relationship between age and cholestrol.\n",
    "\"\"\"\n",
    "age_unique=sorted(df.age.unique())\n",
    "age_chol_values=df.groupby('age')['chol'].count().values\n",
    "mean_chol=[]\n",
    "for i,age in enumerate(age_unique):\n",
    "    mean_chol.append(sum(df[df['age']==age].chol)/age_chol_values[i])\n",
    "    \n",
    "print(mean_chol)"
   ]
  },
  {
   "cell_type": "code",
   "execution_count": 24,
   "metadata": {
    "scrolled": true
   },
   "outputs": [
    {
     "data": {
      "image/png": "[encoded data removed]",
      "text/plain": [
       "<Figure size 720x360 with 1 Axes>"
      ]
     },
     "metadata": {
      "needs_background": "light"
     },
     "output_type": "display_data"
    }
   ],
   "source": [
    "plt.figure(figsize=(10,5))\n",
    "sns.pointplot(x=age_unique,y=mean_chol,color='red',alpha=0.8)\n",
    "plt.xlabel('age',fontsize = 15,color='blue')\n",
    "plt.xticks(rotation=45)\n",
    "plt.ylabel('chol',fontsize = 15,color='blue')\n",
    "plt.title('age vs chol',fontsize = 15,color='blue')\n",
    "plt.grid()\n",
    "plt.show()"
   ]
  },
  {
   "cell_type": "code",
   "execution_count": 25,
   "metadata": {},
   "outputs": [
    {
     "name": "stdout",
     "output_type": "stream",
     "text": [
      "[3 2 1 0]\n"
     ]
    }
   ],
   "source": [
    "print(df.cp.unique())"
   ]
  },
  {
   "cell_type": "code",
   "execution_count": 26,
   "metadata": {},
   "outputs": [
    {
     "name": "stdout",
     "output_type": "stream",
     "text": [
      "[1 2 3 0]\n"
     ]
    }
   ],
   "source": [
    "print(df.thal.unique())"
   ]
  },
  {
   "cell_type": "code",
   "execution_count": 27,
   "metadata": {},
   "outputs": [
    {
     "name": "stdout",
     "output_type": "stream",
     "text": [
      "[0 2 1]\n"
     ]
    }
   ],
   "source": [
    "print(df.slope.unique())"
   ]
  },
  {
   "cell_type": "code",
   "execution_count": 28,
   "metadata": {},
   "outputs": [],
   "source": [
    "# xn is a data frame that only contains colmns with numerical values\n",
    "\n",
    "xn = df[[\"age\", \"trestbps\", \"chol\", \"thalach\", \"oldpeak\"]]"
   ]
  },
  {
   "cell_type": "code",
   "execution_count": 29,
   "metadata": {},
   "outputs": [],
   "source": [
    "# xc contains only catergorical columns\n",
    "\n",
    "xc = df.drop([\"age\", \"trestbps\", \"chol\", \"thalach\", \"oldpeak\", \"target\"], axis=1)"
   ]
  },
  {
   "cell_type": "code",
   "execution_count": 30,
   "metadata": {},
   "outputs": [],
   "source": [
    "y = df[\"target\"]"
   ]
  },
  {
   "cell_type": "code",
   "execution_count": 31,
   "metadata": {
    "scrolled": true
   },
   "outputs": [
    {
     "name": "stdout",
     "output_type": "stream",
     "text": [
      "(303, 5)\n",
      "(303, 8)\n"
     ]
    }
   ],
   "source": [
    "print(xn.shape)\n",
    "\n",
    "print(xc.shape)"
   ]
  },
  {
   "cell_type": "code",
   "execution_count": 32,
   "metadata": {
    "scrolled": true
   },
   "outputs": [
    {
     "data": {
      "text/html": [
       "<div>\n",
       "<style scoped>\n",
       "    .dataframe tbody tr th:only-of-type {\n",
       "        vertical-align: middle;\n",
       "    }\n",
       "\n",
       "    .dataframe tbody tr th {\n",
       "        vertical-align: top;\n",
       "    }\n",
       "\n",
       "    .dataframe thead th {\n",
       "        text-align: right;\n",
       "    }\n",
       "</style>\n",
       "<table border=\"1\" class=\"dataframe\">\n",
       "  <thead>\n",
       "    <tr style=\"text-align: right;\">\n",
       "      <th></th>\n",
       "      <th>age</th>\n",
       "      <th>trestbps</th>\n",
       "      <th>chol</th>\n",
       "      <th>thalach</th>\n",
       "      <th>oldpeak</th>\n",
       "    </tr>\n",
       "  </thead>\n",
       "  <tbody>\n",
       "    <tr>\n",
       "      <th>age</th>\n",
       "      <td>1.000000</td>\n",
       "      <td>0.279351</td>\n",
       "      <td>0.213678</td>\n",
       "      <td>-0.398522</td>\n",
       "      <td>0.210013</td>\n",
       "    </tr>\n",
       "    <tr>\n",
       "      <th>trestbps</th>\n",
       "      <td>0.279351</td>\n",
       "      <td>1.000000</td>\n",
       "      <td>0.123174</td>\n",
       "      <td>-0.046698</td>\n",
       "      <td>0.193216</td>\n",
       "    </tr>\n",
       "    <tr>\n",
       "      <th>chol</th>\n",
       "      <td>0.213678</td>\n",
       "      <td>0.123174</td>\n",
       "      <td>1.000000</td>\n",
       "      <td>-0.009940</td>\n",
       "      <td>0.053952</td>\n",
       "    </tr>\n",
       "    <tr>\n",
       "      <th>thalach</th>\n",
       "      <td>-0.398522</td>\n",
       "      <td>-0.046698</td>\n",
       "      <td>-0.009940</td>\n",
       "      <td>1.000000</td>\n",
       "      <td>-0.344187</td>\n",
       "    </tr>\n",
       "    <tr>\n",
       "      <th>oldpeak</th>\n",
       "      <td>0.210013</td>\n",
       "      <td>0.193216</td>\n",
       "      <td>0.053952</td>\n",
       "      <td>-0.344187</td>\n",
       "      <td>1.000000</td>\n",
       "    </tr>\n",
       "  </tbody>\n",
       "</table>\n",
       "</div>"
      ],
      "text/plain": [
       "               age  trestbps      chol   thalach   oldpeak\n",
       "age       1.000000  0.279351  0.213678 -0.398522  0.210013\n",
       "trestbps  0.279351  1.000000  0.123174 -0.046698  0.193216\n",
       "chol      0.213678  0.123174  1.000000 -0.009940  0.053952\n",
       "thalach  -0.398522 -0.046698 -0.009940  1.000000 -0.344187\n",
       "oldpeak   0.210013  0.193216  0.053952 -0.344187  1.000000"
      ]
     },
     "execution_count": 32,
     "metadata": {},
     "output_type": "execute_result"
    }
   ],
   "source": [
    "# building a correlation matrix for numerical columns\n",
    "\n",
    "xn.corr()"
   ]
  },
  {
   "cell_type": "code",
   "execution_count": 33,
   "metadata": {},
   "outputs": [],
   "source": [
    "# concatenating xn and xc\n",
    "\n",
    "x = pd.concat([xn, xc], axis=1)"
   ]
  },
  {
   "cell_type": "code",
   "execution_count": 34,
   "metadata": {},
   "outputs": [
    {
     "name": "stdout",
     "output_type": "stream",
     "text": [
      "   age  trestbps  chol  thalach  oldpeak  gender  cp  fbs  restecg  exang  \\\n",
      "0   63       145   233      150      2.3       1   3    1        0      0   \n",
      "1   37       130   250      187      3.5       1   2    0        1      0   \n",
      "2   41       130   204      172      1.4       0   1    0        0      0   \n",
      "3   56       120   236      178      0.8       1   1    0        1      0   \n",
      "4   57       120   354      163      0.6       0   0    0        1      1   \n",
      "\n",
      "   slope  ca  thal  \n",
      "0      0   0     1  \n",
      "1      0   0     2  \n",
      "2      2   0     2  \n",
      "3      2   0     2  \n",
      "4      2   0     2  \n"
     ]
    }
   ],
   "source": [
    "print(x.head())"
   ]
  },
  {
   "cell_type": "code",
   "execution_count": 35,
   "metadata": {},
   "outputs": [],
   "source": [
    "from sklearn.model_selection import train_test_split"
   ]
  },
  {
   "cell_type": "code",
   "execution_count": 36,
   "metadata": {},
   "outputs": [],
   "source": [
    "\"\"\"\n",
    "Decision Tree\n",
    "\"\"\"\n",
    "from sklearn.tree import DecisionTreeClassifier\n",
    "\n",
    "xdr_train, xdr_test, ydr_train, ydr_test = train_test_split(x, y, test_size=0.2, random_state=2)"
   ]
  },
  {
   "cell_type": "code",
   "execution_count": 37,
   "metadata": {},
   "outputs": [
    {
     "data": {
      "text/plain": [
       "DecisionTreeClassifier()"
      ]
     },
     "execution_count": 37,
     "metadata": {},
     "output_type": "execute_result"
    }
   ],
   "source": [
    "dtree = DecisionTreeClassifier()\n",
    "dtree.fit(xdr_train,ydr_train)   "
   ]
  },
  {
   "cell_type": "code",
   "execution_count": 38,
   "metadata": {},
   "outputs": [
    {
     "name": "stdout",
     "output_type": "stream",
     "text": [
      "     age  trestbps  chol  thalach  oldpeak  gender  cp  fbs  restecg  exang  \\\n",
      "237   60       140   293      170      1.2       1   0    0        0      0   \n",
      "106   69       160   234      131      0.1       1   3    1        0      0   \n",
      "10    54       140   239      160      1.2       1   0    0        1      0   \n",
      "153   66       146   278      152      0.0       0   2    0        0      0   \n",
      "77    59       140   221      164      0.0       1   1    0        1      1   \n",
      "\n",
      "     slope  ca  thal  \n",
      "237      1   2     3  \n",
      "106      1   1     2  \n",
      "10       2   0     2  \n",
      "153      1   1     2  \n",
      "77       2   0     2  \n",
      "237    0\n",
      "106    1\n",
      "10     1\n",
      "153    1\n",
      "77     1\n",
      "Name: target, dtype: int64\n"
     ]
    }
   ],
   "source": [
    "print(xdr_train[0:5])\n",
    "print(ydr_train[0:5])"
   ]
  },
  {
   "cell_type": "code",
   "execution_count": 39,
   "metadata": {},
   "outputs": [
    {
     "name": "stdout",
     "output_type": "stream",
     "text": [
      "     age  trestbps  chol  thalach  oldpeak  gender  cp  fbs  restecg  exang  \\\n",
      "99    53       130   246      173      0.0       1   2    1        0      0   \n",
      "296   63       124   197      136      0.0       0   0    0        1      1   \n",
      "89    58       100   248      122      1.0       0   0    0        0      0   \n",
      "30    41       105   198      168      0.0       0   1    0        1      0   \n",
      "234   70       130   322      109      2.4       1   0    0        0      0   \n",
      "\n",
      "     slope  ca  thal  \n",
      "99       2   3     2  \n",
      "296      1   0     2  \n",
      "89       1   0     2  \n",
      "30       2   1     2  \n",
      "234      1   3     2  \n",
      "99     1\n",
      "296    0\n",
      "89     1\n",
      "30     1\n",
      "234    0\n",
      "Name: target, dtype: int64\n"
     ]
    }
   ],
   "source": [
    "print(xdr_test[0:5])\n",
    "\n",
    "print(ydr_test[0:5]) # true y from the test set"
   ]
  },
  {
   "cell_type": "code",
   "execution_count": 40,
   "metadata": {},
   "outputs": [
    {
     "data": {
      "text/plain": [
       "array([1, 0, 1, 1, 1, 0, 1, 1, 0, 0, 0, 1, 0, 0, 1, 1, 0, 1, 0, 0, 1, 1,\n",
       "       0, 1, 1, 1, 1, 0, 0, 1, 1, 1, 0, 0, 1, 0, 0, 1, 0, 0, 1, 1, 0, 0,\n",
       "       1, 1, 0, 1, 0, 1, 1, 1, 1, 0, 0, 0, 1, 1, 1, 1, 1], dtype=int64)"
      ]
     },
     "execution_count": 40,
     "metadata": {},
     "output_type": "execute_result"
    }
   ],
   "source": [
    "predict=dtree.predict(xdr_test) # predicted y from the x test                              \n",
    "predict"
   ]
  },
  {
   "cell_type": "code",
   "execution_count": 41,
   "metadata": {
    "scrolled": false
   },
   "outputs": [
    {
     "name": "stdout",
     "output_type": "stream",
     "text": [
      "              precision    recall  f1-score   support\n",
      "\n",
      "           0       0.88      0.72      0.79        32\n",
      "           1       0.74      0.90      0.81        29\n",
      "\n",
      "    accuracy                           0.80        61\n",
      "   macro avg       0.81      0.81      0.80        61\n",
      "weighted avg       0.82      0.80      0.80        61\n",
      "\n",
      "[[23  9]\n",
      " [ 3 26]]\n"
     ]
    }
   ],
   "source": [
    "from sklearn.metrics import classification_report,confusion_matrix\n",
    "print(classification_report(ydr_test, predict))\n",
    "\n",
    "\n",
    "from sklearn.metrics import confusion_matrix\n",
    "\n",
    "cm_tree = confusion_matrix(ydr_test,predict )\n",
    "\n",
    "print(cm_tree)"
   ]
  },
  {
   "cell_type": "code",
   "execution_count": 42,
   "metadata": {},
   "outputs": [],
   "source": [
    "#!pip install --upgrade scikit-learn"
   ]
  },
  {
   "cell_type": "code",
   "execution_count": 43,
   "metadata": {},
   "outputs": [
    {
     "data": {
      "image/png": "[encoded data removed]",
      "text/plain": [
       "<Figure size 432x288 with 2 Axes>"
      ]
     },
     "metadata": {
      "needs_background": "light"
     },
     "output_type": "display_data"
    }
   ],
   "source": [
    "from sklearn.metrics import plot_confusion_matrix\n",
    "\n",
    "plot_confusion_matrix(dtree, xdr_test, ydr_test, cmap=\"Blues\")  \n",
    "plt.show()  "
   ]
  },
  {
   "cell_type": "code",
   "execution_count": 44,
   "metadata": {},
   "outputs": [
    {
     "name": "stdout",
     "output_type": "stream",
     "text": [
      "Accuracy is: 80.32786885245902\n"
     ]
    }
   ],
   "source": [
    "from sklearn.metrics import accuracy_score\n",
    "print(\"Accuracy is:\", accuracy_score(ydr_test, predict)*100)    \n",
    "# HERE WE ARE GETTING OUR ACCURACY OF OUR MODEL"
   ]
  },
  {
   "cell_type": "code",
   "execution_count": 45,
   "metadata": {},
   "outputs": [],
   "source": [
    "\"\"\"\n",
    "Random Forest\n",
    "\"\"\"\n",
    "from sklearn.ensemble import RandomForestClassifier"
   ]
  },
  {
   "cell_type": "code",
   "execution_count": 46,
   "metadata": {},
   "outputs": [
    {
     "data": {
      "text/plain": [
       "RandomForestClassifier()"
      ]
     },
     "execution_count": 46,
     "metadata": {},
     "output_type": "execute_result"
    }
   ],
   "source": [
    "rfc = RandomForestClassifier(n_estimators=100)\n",
    "rfc.fit(xdr_train, ydr_train)"
   ]
  },
  {
   "cell_type": "code",
   "execution_count": 47,
   "metadata": {},
   "outputs": [],
   "source": [
    "rfc_predict = rfc.predict(xdr_test)                                "
   ]
  },
  {
   "cell_type": "code",
   "execution_count": 48,
   "metadata": {},
   "outputs": [
    {
     "name": "stdout",
     "output_type": "stream",
     "text": [
      "[[27  5]\n",
      " [ 1 28]]\n",
      "              precision    recall  f1-score   support\n",
      "\n",
      "           0       0.96      0.84      0.90        32\n",
      "           1       0.85      0.97      0.90        29\n",
      "\n",
      "    accuracy                           0.90        61\n",
      "   macro avg       0.91      0.90      0.90        61\n",
      "weighted avg       0.91      0.90      0.90        61\n",
      "\n"
     ]
    }
   ],
   "source": [
    "from sklearn.metrics import confusion_matrix\n",
    "cm_rf = confusion_matrix(ydr_test, rfc_predict)\n",
    "\n",
    "print(cm_rf)\n",
    "print(classification_report(ydr_test, rfc_predict))"
   ]
  },
  {
   "cell_type": "code",
   "execution_count": 49,
   "metadata": {},
   "outputs": [
    {
     "name": "stdout",
     "output_type": "stream",
     "text": [
      "Accuracy is: 90.1639344262295\n"
     ]
    }
   ],
   "source": [
    "print(\"Accuracy is:\", accuracy_score(ydr_test,rfc_predict)*100)    "
   ]
  },
  {
   "cell_type": "code",
   "execution_count": 50,
   "metadata": {
    "scrolled": false
   },
   "outputs": [
    {
     "name": "stdout",
     "output_type": "stream",
     "text": [
      "Confusion matrix for decision tree\n",
      "[[23  9]\n",
      " [ 3 26]]\n",
      "Accuracy for decision tree: 80.32786885245902\n",
      "Confusion matrix for random forest\n",
      "[[27  5]\n",
      " [ 1 28]]\n",
      "Accuracy for random forest: 90.1639344262295\n"
     ]
    }
   ],
   "source": [
    "# Printing all confusion matrices and accuracies\n",
    "\n",
    "print(\"Confusion matrix for decision tree\")\n",
    "\n",
    "print(cm_tree)\n",
    "print(\"Accuracy for decision tree:\", accuracy_score(ydr_test,predict)*100)\n",
    "\n",
    "\n",
    "print(\"Confusion matrix for random forest\")\n",
    "print(cm_rf)\n",
    "print(\"Accuracy for random forest:\",accuracy_score(ydr_test,rfc_predict)*100)    "
   ]
  },
  {
   "cell_type": "code",
   "execution_count": 51,
   "metadata": {},
   "outputs": [
    {
     "data": {
      "text/plain": [
       "'\\nIn-class activity: Can you build Random Forest Classifiers with 200 and 300 trees and \\nfind the accuracy score for each model?\\n'"
      ]
     },
     "execution_count": 51,
     "metadata": {},
     "output_type": "execute_result"
    }
   ],
   "source": [
    "\"\"\"\n",
    "In-class activity: Can you build Random Forest Classifiers with 200 and 300 trees and \n",
    "find the accuracy score for each model?\n",
    "\"\"\""
   ]
  },
  {
   "cell_type": "code",
   "execution_count": null,
   "metadata": {},
   "outputs": [],
   "source": []
  }
 ],
 "metadata": {
  "kernelspec": {
   "display_name": "Python 3 (ipykernel)",
   "language": "python",
   "name": "python3"
  },
  "language_info": {
   "codemirror_mode": {
    "name": "ipython",
    "version": 3
   },
   "file_extension": ".py",
   "mimetype": "text/x-python",
   "name": "python",
   "nbconvert_exporter": "python",
   "pygments_lexer": "ipython3",
   "version": "3.9.12"
  }
 },
 "nbformat": 4,
 "nbformat_minor": 2
}
