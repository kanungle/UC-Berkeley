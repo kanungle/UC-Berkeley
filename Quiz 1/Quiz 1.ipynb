{
 "cells": [
  {
   "cell_type": "markdown",
   "id": "dcdf5d25",
   "metadata": {},
   "source": [
    "If temperature in Seattle is 70, New York is 75 and San Francisco \n",
    "is 65. Create a Pandas data structure that can hold this \n",
    "information with columns headings: Cities and Temperature. \n",
    "Print the data structure\n"
   ]
  },
  {
   "cell_type": "code",
   "execution_count": 5,
   "id": "023af47e",
   "metadata": {},
   "outputs": [
    {
     "name": "stdout",
     "output_type": "stream",
     "text": [
      "          Cities  Temperature\n",
      "0        Seattle           70\n",
      "1       New York           75\n",
      "2  San Francisco           65\n"
     ]
    }
   ],
   "source": [
    "import pandas as pd\n",
    "data = {'Cities': ['Seattle', 'New York', 'San Francisco'],\n",
    "            'Temperature': [70,75,65]}\n",
    "df = pd.DataFrame(data)\n",
    "print(df)"
   ]
  },
  {
   "cell_type": "code",
   "execution_count": 21,
   "id": "02f906e8",
   "metadata": {},
   "outputs": [
    {
     "name": "stdout",
     "output_type": "stream",
     "text": [
      "      0\n",
      "0  30.0\n",
      "2  12.0\n"
     ]
    }
   ],
   "source": [
    "A = [30, 1, 12, 10, 3]\n",
    "\n",
    "import numpy as np\n",
    "import pandas as pd\n",
    "\n",
    "# Part 1 - Find the median of A\n",
    "np.median(A)\n",
    "\n",
    "# Part 2 - Find values greater than median of A\n",
    "x = pd.DataFrame(A)\n",
    "x = x[x>np.median(A)].dropna()\n",
    "print(x)\n"
   ]
  }
 ],
 "metadata": {
  "kernelspec": {
   "display_name": "Python 3 (ipykernel)",
   "language": "python",
   "name": "python3"
  },
  "language_info": {
   "codemirror_mode": {
    "name": "ipython",
    "version": 3
   },
   "file_extension": ".py",
   "mimetype": "text/x-python",
   "name": "python",
   "nbconvert_exporter": "python",
   "pygments_lexer": "ipython3",
   "version": "3.9.12"
  }
 },
 "nbformat": 4,
 "nbformat_minor": 5
}
